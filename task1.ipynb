{
 "cells": [
  {
   "cell_type": "markdown",
   "metadata": {},
   "source": [
    "## Python Assignment - 1"
   ]
  },
  {
   "cell_type": "markdown",
   "metadata": {},
   "source": [
    "### 1.1 Take a string as an input from the user, and print all the vowels present in the string."
   ]
  },
  {
   "cell_type": "code",
   "execution_count": 2,
   "metadata": {},
   "outputs": [
    {
     "name": "stdout",
     "output_type": "stream",
     "text": [
      "Enter String: print all vowels \n",
      "i,a,o,e,"
     ]
    }
   ],
   "source": [
    "vowels = input('Enter String: ' )\n",
    "for i in vowels:\n",
    "    if i in 'aeiou':\n",
    "        print(i,end=',')"
   ]
  },
  {
   "cell_type": "markdown",
   "metadata": {},
   "source": [
    "### 1.2 Take a string as an input from the user, and print all the consonants present in the string."
   ]
  },
  {
   "cell_type": "code",
   "execution_count": 3,
   "metadata": {},
   "outputs": [
    {
     "name": "stdout",
     "output_type": "stream",
     "text": [
      "Enter String: print all cons\n",
      "p,r,n,t, ,l,l, ,c,n,s,"
     ]
    }
   ],
   "source": [
    "cons = input('Enter String: ' )\n",
    "for i in cons:\n",
    "    if i not in 'aeiou':\n",
    "        print(i,end=',')"
   ]
  },
  {
   "cell_type": "markdown",
   "metadata": {},
   "source": [
    "### 1.3 Take a string as an input from the user, store all the vowels and consonants in two different lists and print them."
   ]
  },
  {
   "cell_type": "code",
   "execution_count": 6,
   "metadata": {},
   "outputs": [
    {
     "name": "stdout",
     "output_type": "stream",
     "text": [
      "enter anything : print all vowls and cons\n",
      "Vowls =  ['i', 'a', 'o', 'a', 'o']\n",
      "Consonants =  ['p', 'r', 'n', 't', ' ', 'l', 'l', ' ', 'v', 'w', 'l', 's', ' ', 'n', 'd', ' ', 'c', 'n', 's']\n"
     ]
    }
   ],
   "source": [
    "a = input(\"enter anything : \")\n",
    "vowl = []\n",
    "cons = []\n",
    "\n",
    "for i in a:\n",
    "    if i in 'aieou':\n",
    "        vowl.append(i)\n",
    "    else:\n",
    "        cons.append(i)\n",
    " \n",
    "print(\"Vowls = \", vowl)\n",
    "print(\"Consonants = \", cons)"
   ]
  },
  {
   "cell_type": "markdown",
   "metadata": {},
   "source": [
    "### 2. There are 12 months in a year - January, February,March etc. We also have seasons like summer,autumn,winter,spring.These seasons depend on both Date and Month. Based on below given information, answers the following questions.\n",
    "\n",
    ". For month = Jan,Feb,and March, print winter\n",
    "\n",
    ". If (month = March and date > 19), print summer\n",
    "\n",
    ". For month = Apr,May,June , print summer\n",
    "\n",
    ". If (month = June and date > 20), print spring\n",
    "\n",
    ". For month = July,Aug,Sep ,  print spring\n",
    "\n",
    ". If (month = september and date > 21), print autumn\n",
    "\n",
    ". For month = Oct,Nov,Dec , print autumn\n",
    "\n",
    ". If (month = December and date > 15), print winter"
   ]
  },
  {
   "cell_type": "markdown",
   "metadata": {},
   "source": [
    "For example:\n",
    "\n",
    "Input: Month = December\n",
    "       Day = 20\n",
    "       \n",
    "Output: Winter"
   ]
  },
  {
   "cell_type": "code",
   "execution_count": 5,
   "metadata": {},
   "outputs": [
    {
     "name": "stdout",
     "output_type": "stream",
     "text": [
      "Input the month (e.g. January, February etc.): December\n",
      "Input the day: 20\n",
      "Season is winter\n"
     ]
    }
   ],
   "source": [
    "month = input(\"Input the month (e.g. January, February etc.): \")\n",
    "day = int(input(\"Input the day: \"))\n",
    "\n",
    "if month in ('January', 'February', 'March'):\n",
    "    season = 'winter'\n",
    "elif month in ('April', 'May', 'June'):\n",
    "    season = 'summer'\n",
    "elif month in ('July', 'August', 'September'):\n",
    "    season = 'spring'\n",
    "else:\n",
    "    season = 'autumn'\n",
    "\n",
    "if (month == 'March') and (day > 19):\n",
    "    season = 'summer'\n",
    "elif (month == 'June') and (day > 20):\n",
    "    season = 'spring'\n",
    "elif (month == 'September') and (day > 21):\n",
    "    season = 'autumn'\n",
    "elif (month == 'December') and (day > 15):\n",
    "    season = 'winter'\n",
    "\n",
    "print(\"Season is\",season)"
   ]
  },
  {
   "cell_type": "markdown",
   "metadata": {},
   "source": [
    "### 3.Take an input from the user and print the Ticket fair.\n",
    "\n",
    "Age: (1 to 3) :Ticket fair - free\n",
    "\n",
    "Age: (4 to 10) : Ticket fair  - 150\n",
    "    \n",
    "Age: (11 to 60) : Ticket fair - 300\n",
    "    \n",
    "Age: Above 60 : Ticket fair - 3000\n"
   ]
  },
  {
   "cell_type": "code",
   "execution_count": 7,
   "metadata": {},
   "outputs": [
    {
     "name": "stdout",
     "output_type": "stream",
     "text": [
      "Age: 15\n",
      "Ticket is 300\n"
     ]
    }
   ],
   "source": [
    "fare = int(input(\"Age: \"))\n",
    "if (fare > 0 and fare<=3):\n",
    "    print(\"Ticket is free\")\n",
    "elif (fare > 3 and fare <= 10):\n",
    "    print(\"Ticket is 150\")\n",
    "elif (fare >10 and fare<=60):\n",
    "    print(\"Ticket is 300\")\n",
    "else:\n",
    "    print(\"Ticket is 3000\")"
   ]
  },
  {
   "cell_type": "markdown",
   "metadata": {},
   "source": [
    "### 4. Take a string as an input and replace \"Anonyms\" and \"Love\" words with \"Your name\" and \"Like\"."
   ]
  },
  {
   "cell_type": "markdown",
   "metadata": {},
   "source": [
    "**For example:** a='My name is Anonyms and I Love python'\n",
    "\n",
    "**output:** My name is Ashish and I like python   "
   ]
  },
  {
   "cell_type": "code",
   "execution_count": 8,
   "metadata": {},
   "outputs": [
    {
     "name": "stdout",
     "output_type": "stream",
     "text": [
      "Please Enter your String : my name is anonyms and i love python\n",
      "Please Enter your 1st change word : anonyms\n",
      "Please Enter your 2nd change word : love\n",
      "Please Enter the New 1st word : ashish\n",
      "Please Enter your New 2nd word : like\n",
      "\n",
      "Original String :   my name is anonyms and i love python\n",
      "Modified String :   my name is ashish and i like python\n"
     ]
    }
   ],
   "source": [
    "str1 = input(\"Please Enter your String : \")\n",
    "ch = input(\"Please Enter your 1st change word : \")\n",
    "ch2 =input(\"Please Enter your 2nd change word : \")\n",
    "newch = input(\"Please Enter the New 1st word : \")\n",
    "newch2=input(\"Please Enter your New 2nd word : \")\n",
    "str2 = str1.replace(ch,newch).replace(ch2,newch2)\n",
    "\n",
    "print(\"\\nOriginal String :  \", str1)\n",
    "print(\"Modified String :  \", str2)"
   ]
  },
  {
   "cell_type": "markdown",
   "metadata": {},
   "source": [
    "### 5. Take two input values 'x' and 'y', and print which quadrants they belong to based on the below conditions.\n",
    "\n",
    "1. x>0 and y>0 - 1st Quadrant\n",
    "2. x<0 and y>0 - 2nd Quadrant\n",
    "3. x<0 and y<0 - 3rd Quadrant\n",
    "4. x>0 and y<0 - 4th Quadrant"
   ]
  },
  {
   "cell_type": "code",
   "execution_count": 9,
   "metadata": {},
   "outputs": [
    {
     "name": "stdout",
     "output_type": "stream",
     "text": [
      "15\n",
      "-5\n",
      "4th Quad\n"
     ]
    }
   ],
   "source": [
    "x= int(input())\n",
    "y=int(input())\n",
    "if (x > 0 and y>0):\n",
    "    print(\"1st Quad\")\n",
    "elif (x<0 and y>0):\n",
    "    print(\"2nd Quad\")\n",
    "elif (x<0 and y<0):\n",
    "    print(\"3rd Quad\")\n",
    "else:\n",
    "    print(\"4th Quad\")"
   ]
  },
  {
   "cell_type": "code",
   "execution_count": null,
   "metadata": {},
   "outputs": [],
   "source": []
  }
 ],
 "metadata": {
  "kernelspec": {
   "display_name": "Python 3",
   "language": "python",
   "name": "python3"
  },
  "language_info": {
   "codemirror_mode": {
    "name": "ipython",
    "version": 3
   },
   "file_extension": ".py",
   "mimetype": "text/x-python",
   "name": "python",
   "nbconvert_exporter": "python",
   "pygments_lexer": "ipython3",
   "version": "3.8.8"
  }
 },
 "nbformat": 4,
 "nbformat_minor": 4
}
