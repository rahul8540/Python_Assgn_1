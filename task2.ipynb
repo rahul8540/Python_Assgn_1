{
 "cells": [
  {
   "cell_type": "markdown",
   "metadata": {
    "id": "VXJDMkAbfQQ7"
   },
   "source": [
    "1. Write a python program to interchange first and last elements in a list<br>\n",
    "Input : [12, 35, 9, 56, 24]<br>\n",
    "Output : [24, 35, 9, 56, 12]"
   ]
  },
  {
   "cell_type": "code",
   "execution_count": 1,
   "metadata": {
    "id": "nkLzGNGUpk7B"
   },
   "outputs": [
    {
     "name": "stdout",
     "output_type": "stream",
     "text": [
      "[24, 35, 9, 56, 12]\n"
     ]
    }
   ],
   "source": [
    "a=[12,35,9,56,24]\n",
    "first = a.pop(0)  \n",
    "last = a.pop(-1)\n",
    "     \n",
    "a.insert(0, last) \n",
    "a.append(first) \n",
    " \n",
    "print(a)"
   ]
  },
  {
   "cell_type": "markdown",
   "metadata": {
    "id": "mJrR38UrfTsr"
   },
   "source": [
    "2. Write a python program to print the first two maximum numbers in the list and also print the sum of those two maximum numbers<br>\n",
    "Input : [12, 35, 9, 56, 24]<br>\n",
    "Output : [24, 35, 9, 56, 12]<br>\n",
    "output = Maximum numbers in the list are 56,35<br>\n",
    "and the sum of the above maximum numbers is 95"
   ]
  },
  {
   "cell_type": "code",
   "execution_count": 2,
   "metadata": {
    "id": "9O3EUaT8plpW"
   },
   "outputs": [
    {
     "name": "stdout",
     "output_type": "stream",
     "text": [
      "two largest is: 56 35\n",
      "sum: 91\n"
     ]
    }
   ],
   "source": [
    "a=[12,35,9,56,24]\n",
    "a.sort()\n",
    "print(\"two largest is:\",a[-1],a[-2])\n",
    "x=sum(sorted(a)[-2:])\n",
    "print(\"sum:\",x)"
   ]
  },
  {
   "cell_type": "markdown",
   "metadata": {
    "id": "gN-py34Qf6dF"
   },
   "source": [
    "3. Write a program to reverse a list using for loop without using slicing operation<br>\n",
    "Input=[1,2,3,4,5,6]<br>\n",
    "output=[6,5,4,3,2,1]"
   ]
  },
  {
   "cell_type": "code",
   "execution_count": 14,
   "metadata": {
    "id": "ZUrBTXnPpmgE"
   },
   "outputs": [
    {
     "name": "stdout",
     "output_type": "stream",
     "text": [
      "6 5 4 3 2 1 "
     ]
    }
   ],
   "source": [
    "list1=[1,2,3,4,5,6]\n",
    "\n",
    "for i in range( len(list1) - 1, -1, -1) :\n",
    "\n",
    "    print(list1[i],end=' ')"
   ]
  },
  {
   "cell_type": "markdown",
   "metadata": {
    "id": "5DMwujcNgQn2"
   },
   "source": [
    "4. Write a python program to print the first two minimum numbers in the list and also print the sum of those two minimum numbers<br>\n",
    "Input : [12, 35, 9, 56, 24]<br>\n",
    "Output : [24, 35, 9, 56, 12]<br>\n",
    "output=Minimum numbers in the list are 9,12<br>\n",
    "and the sum of the above minimum numbers is 21"
   ]
  },
  {
   "cell_type": "code",
   "execution_count": 15,
   "metadata": {
    "id": "OM-nbi_0pnGk"
   },
   "outputs": [
    {
     "name": "stdout",
     "output_type": "stream",
     "text": [
      "two smallest is: 9 12\n",
      "sum: 21\n"
     ]
    }
   ],
   "source": [
    "a=[12,35,9,56,24]\n",
    "a.sort()\n",
    "print(\"two smallest is:\",a[0],a[1])\n",
    "x=sum(sorted(a)[0:2])\n",
    "print(\"sum:\",x)"
   ]
  },
  {
   "cell_type": "markdown",
   "metadata": {
    "id": "dmHJ6S4pgpbx"
   },
   "source": [
    "5. Take string as an input from the user and print reverse of the string,using for loop <br>\n",
    "Input='hi i like python'<br>\n",
    "output='nohtyp ekil i ih'"
   ]
  },
  {
   "cell_type": "code",
   "execution_count": 18,
   "metadata": {
    "id": "MWPvs-Vcf5Aw"
   },
   "outputs": [
    {
     "name": "stdout",
     "output_type": "stream",
     "text": [
      "hi i like python\n",
      "The original string is:  hi i like python\n",
      "The reverse string is nohtyp ekil i ih\n"
     ]
    }
   ],
   "source": [
    "str = input() \n",
    "def reverse_string(str):  \n",
    "    str1 = \"\"   \n",
    "    for i in str:  \n",
    "        str1 = i + str1  \n",
    "    return str1            \n",
    "print(\"The original string is: \",str)  \n",
    "print(\"The reverse string is\",reverse_string(str)) \n"
   ]
  },
  {
   "cell_type": "code",
   "execution_count": null,
   "metadata": {},
   "outputs": [],
   "source": []
  }
 ],
 "metadata": {
  "colab": {
   "collapsed_sections": [],
   "name": "Python_Assingment_2.ipynb",
   "provenance": []
  },
  "kernelspec": {
   "display_name": "Python 3",
   "language": "python",
   "name": "python3"
  },
  "language_info": {
   "codemirror_mode": {
    "name": "ipython",
    "version": 3
   },
   "file_extension": ".py",
   "mimetype": "text/x-python",
   "name": "python",
   "nbconvert_exporter": "python",
   "pygments_lexer": "ipython3",
   "version": "3.8.8"
  }
 },
 "nbformat": 4,
 "nbformat_minor": 1
}
