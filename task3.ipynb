{
 "cells": [
  {
   "cell_type": "markdown",
   "metadata": {
    "id": "0Js4T3QBXZyt"
   },
   "source": [
    "### Python Assignment - 3"
   ]
  },
  {
   "cell_type": "markdown",
   "metadata": {
    "id": "u8XyD_P4XhJz"
   },
   "source": [
    "1. Take a string as an input and check whether the input is present in the list and also print it's no.of occurances.\n",
    "\n",
    "**Example:** a = ['1,2,3,4,5,6,'q',1,'e',2,2,3,'a',2,2]<br>\n",
    "         Input = 2 <br>\n",
    "         output : 2 is present in the list and no.of occurances is 5"
   ]
  },
  {
   "cell_type": "code",
   "execution_count": 1,
   "metadata": {
    "id": "rkx2tIS1poja"
   },
   "outputs": [
    {
     "name": "stdout",
     "output_type": "stream",
     "text": [
      "2 has occurred 5 times\n"
     ]
    }
   ],
   "source": [
    "lst=[1,2,3,4,5,6,'q',1,'e',2,2,3,'a',2,2]\n",
    "def countX(lst, x):\n",
    "    return lst.count(x)\n",
    "x = 2\n",
    "print('{} has occurred {} times'.format(x, countX(lst, x)))"
   ]
  },
  {
   "cell_type": "markdown",
   "metadata": {
    "id": "Y8bYuCYWZuAD"
   },
   "source": [
    "2. Print the list in reverse. Take the input from the user as <br> i. No.of elements to be given in the list.<br> ii. Enter the elements.<br> output: original list: [' ', ' ', ' ']<br> Reversed list: [' ', ' ', ' ']<br>\n",
    "**Example:** No.of elements : 3<br> Enter the elements: 'a','b','c'<br> output: original list: ['a','b','c']<br> Reversed list: ['c','b','a']"
   ]
  },
  {
   "cell_type": "code",
   "execution_count": null,
   "metadata": {
    "id": "XWDwHwLFppS_"
   },
   "outputs": [],
   "source": [
    "NA"
   ]
  },
  {
   "cell_type": "markdown",
   "metadata": {
    "id": "xfn94Khhb8jN"
   },
   "source": [
    "3. Write a Python program to find the second largest number in given list.<br>\n",
    "Examples: <br>\n",
    "\n",
    "Input: list1 = [10, 20, 4]<br>\n",
    "Output: 10<br>\n",
    "\n",
    "Input: list2 = [70, 11, 20, 4, 100]<br>\n",
    "Output: 70<br>"
   ]
  },
  {
   "cell_type": "code",
   "execution_count": null,
   "metadata": {
    "id": "wZyVkrjSpp9d"
   },
   "outputs": [],
   "source": [
    "NA"
   ]
  },
  {
   "cell_type": "markdown",
   "metadata": {
    "id": "nIy5WklycyZN"
   },
   "source": [
    "4. Write a Python program to print all even numbers in given list.<br>\n",
    "Example:\n",
    "\n",
    "Input: list1 = [2, 7, 5, 64, 14]<br>\n",
    "Output: [2, 64, 14]\n",
    "\n",
    "Input: list2 = [12, 14, 95, 3]<br>\n",
    "Output: [12, 14]"
   ]
  },
  {
   "cell_type": "code",
   "execution_count": 16,
   "metadata": {
    "id": "pCH1HVvjpqha"
   },
   "outputs": [
    {
     "name": "stdout",
     "output_type": "stream",
     "text": [
      "Even:  [2, 64, 14]\n"
     ]
    }
   ],
   "source": [
    "list1 = [2,7,5,64,14] \n",
    "\n",
    "evenNo = list(filter(lambda x: (x % 2 == 0), list1))\n",
    "  \n",
    "print(\"Even: \", evenNo)"
   ]
  },
  {
   "cell_type": "markdown",
   "metadata": {
    "id": "q5C_131JdTHR"
   },
   "source": [
    "5. Write a Python program to print all odd numbers in given list.<br>\n",
    "Example:\n",
    "\n",
    "Input: list1 = [2, 7, 5, 64, 14]<br>\n",
    "Output: [7, 5]\n",
    "\n",
    "Input: list2 = [12, 14, 95, 3, 73]<br>\n",
    "Output: [95, 3, 73]"
   ]
  },
  {
   "cell_type": "code",
   "execution_count": 17,
   "metadata": {
    "id": "1Ft0ddL0prIb"
   },
   "outputs": [
    {
     "name": "stdout",
     "output_type": "stream",
     "text": [
      "Even:  [7, 5]\n"
     ]
    }
   ],
   "source": [
    "list1 = [2,7,5,64,14] \n",
    "\n",
    "oddNo = list(filter(lambda x: (x % 2 != 0), list1))\n",
    "  \n",
    "print(\"Even: \", oddNo)"
   ]
  },
  {
   "cell_type": "code",
   "execution_count": null,
   "metadata": {},
   "outputs": [],
   "source": []
  }
 ],
 "metadata": {
  "colab": {
   "collapsed_sections": [],
   "name": "Python_Assignment_3.ipynb",
   "provenance": []
  },
  "kernelspec": {
   "display_name": "Python 3",
   "language": "python",
   "name": "python3"
  },
  "language_info": {
   "codemirror_mode": {
    "name": "ipython",
    "version": 3
   },
   "file_extension": ".py",
   "mimetype": "text/x-python",
   "name": "python",
   "nbconvert_exporter": "python",
   "pygments_lexer": "ipython3",
   "version": "3.8.8"
  }
 },
 "nbformat": 4,
 "nbformat_minor": 1
}
